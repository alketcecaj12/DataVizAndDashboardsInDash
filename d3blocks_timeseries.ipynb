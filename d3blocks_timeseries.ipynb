{
 "cells": [
  {
   "cell_type": "code",
   "execution_count": 1,
   "id": "734ac112-fc12-4b4d-b215-6d6836984b18",
   "metadata": {},
   "outputs": [
    {
     "name": "stderr",
     "output_type": "stream",
     "text": [
      "/Users/alket/miniconda3/envs/myenv/lib/python3.10/site-packages/pandas/core/arrays/masked.py:60: UserWarning: Pandas requires version '1.3.6' or newer of 'bottleneck' (version '1.3.5' currently installed).\n",
      "  from pandas.core import (\n",
      "[d3blocks] >INFO> Cleaning edge_properties and config parameters..\n",
      "[d3blocks] >INFO> Extracting files..\n",
      "[d3blocks] >INFO> Import dataset: [climate]\n",
      "[d3blocks] >INFO> Initializing [Timeseries]\n",
      "[d3blocks] >INFO> filepath is set to [/var/folders/tt/zbxpsbdn7fd6_zbyqkfm28d40000gn/T/d3blocks/timeseries.html]\n",
      "[d3blocks] >INFO> Convert to DataFrame.\n",
      "[d3blocks] >INFO> Node properties are set.\n",
      "[d3blocks] >INFO> Edge properties are set.\n",
      "[d3blocks] >INFO> File not found: [file:////var/folders/tt/zbxpsbdn7fd6_zbyqkfm28d40000gn/T/d3blocks/timeseries.html]\n",
      "[d3blocks] >INFO> Open browser: file:////var/folders/tt/zbxpsbdn7fd6_zbyqkfm28d40000gn/T/d3blocks/timeseries.html\n"
     ]
    }
   ],
   "source": [
    "# Import\n",
    "from d3blocks import D3Blocks\n",
    "\n",
    "# Initialize\n",
    "d3 = D3Blocks()\n",
    "\n",
    "# Import example\n",
    "df = d3.import_example('climate')\n",
    "\n",
    "\"\"\"\n",
    "+------------+------------+-----------+-------------+---------------+\n",
    "|    Date    | Mean Temp  | Humidity  | Wind Speed  | Mean Pressure |\n",
    "+------------+------------+-----------+-------------+---------------+\n",
    "| 2017-01-01 |   15.913   |   85.870  |     2.743   |      59.000   |\n",
    "| 2017-01-02 |   18.500   |   77.222  |     2.894   |    1018.278   |\n",
    "| 2017-01-03 |   17.111   |   81.889  |     4.017   |    1018.333   |\n",
    "| 2017-01-04 |   18.700   |   70.050  |     4.545   |    1015.700   |\n",
    "| 2017-01-05 |   18.389   |   74.944  |     3.300   |    1014.333   |\n",
    "|    ...     |    ...     |    ...    |     ...     |      ...      |\n",
    "| 2017-04-20 |   34.500   |   27.500  |     5.563   |     998.625   |\n",
    "| 2017-04-21 |   34.250   |   39.375  |     6.963   |     999.875   |\n",
    "| 2017-04-22 |   32.900   |   40.900  |     8.890   |    1001.600   |\n",
    "| 2017-04-23 |   32.875   |   27.500  |     9.963   |    1002.125   |\n",
    "| 2017-04-24 |   32.000   |   27.143  |    12.157   |    1004.143   |\n",
    "+------------+------------+-----------+-------------+---------------+\n",
    "\"\"\"\n",
    "\n",
    "# Create Chart\n"
   ]
  },
  {
   "cell_type": "code",
   "execution_count": 2,
   "id": "96be883f-3c0a-410a-ab9d-eac2828afcc3",
   "metadata": {},
   "outputs": [
    {
     "name": "stderr",
     "output_type": "stream",
     "text": [
      "[d3blocks] >INFO> Initializing [Timeseries]\n",
      "[d3blocks] >INFO> filepath is set to [/var/folders/tt/zbxpsbdn7fd6_zbyqkfm28d40000gn/T/d3blocks/timeseries.html]\n",
      "[d3blocks] >INFO> Convert to DataFrame.\n",
      "[d3blocks] >INFO> Node properties are set.\n",
      "[d3blocks] >INFO> Edge properties are set.\n",
      "[d3blocks] >INFO> File already exists and will be overwritten: [/var/folders/tt/zbxpsbdn7fd6_zbyqkfm28d40000gn/T/d3blocks/timeseries.html]\n",
      "[d3blocks] >INFO> File not found: [file:////var/folders/tt/zbxpsbdn7fd6_zbyqkfm28d40000gn/T/d3blocks/timeseries.html]\n",
      "[d3blocks] >INFO> Open browser: file:////var/folders/tt/zbxpsbdn7fd6_zbyqkfm28d40000gn/T/d3blocks/timeseries.html\n"
     ]
    }
   ],
   "source": [
    "d3.timeseries(df, datetime='date', dt_format='%Y-%m-%d', fontsize=10, figsize=[1250, 500])"
   ]
  },
  {
   "cell_type": "code",
   "execution_count": null,
   "id": "69c472c7-d356-4e8d-8ad3-47f8e778793d",
   "metadata": {},
   "outputs": [],
   "source": []
  },
  {
   "cell_type": "code",
   "execution_count": null,
   "id": "5349753c-e7c9-4deb-8718-f3cab24bdc4a",
   "metadata": {},
   "outputs": [],
   "source": []
  }
 ],
 "metadata": {
  "kernelspec": {
   "display_name": "Python 3 (ipykernel)",
   "language": "python",
   "name": "python3"
  },
  "language_info": {
   "codemirror_mode": {
    "name": "ipython",
    "version": 3
   },
   "file_extension": ".py",
   "mimetype": "text/x-python",
   "name": "python",
   "nbconvert_exporter": "python",
   "pygments_lexer": "ipython3",
   "version": "3.10.13"
  }
 },
 "nbformat": 4,
 "nbformat_minor": 5
}
