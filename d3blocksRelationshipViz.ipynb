{
 "cells": [
  {
   "cell_type": "code",
   "execution_count": 2,
   "id": "32d6577c-3a1f-4238-aa75-bfe4ff4529c4",
   "metadata": {},
   "outputs": [],
   "source": [
    "import pandas as pd"
   ]
  },
  {
   "cell_type": "code",
   "execution_count": null,
   "id": "a80c91aa-855f-4369-8098-4b974a2611b7",
   "metadata": {},
   "outputs": [],
   "source": [
    "|         Source            |        Target       | Weight \n",
    "| Agricultural 'waste'      | Bio-conversion      | 124.73 \n",
    "|                            | Liquid              |  0.597 \n",
    "| Bio-conversion            | Losses              | 26.862 \n",
    "| Bio-conversion            | Solid               | 280.32 \n",
    "| Bio-conversion            | Gas                 | 81.144 \n",
    "| Thermal generation        | District heating    | 79.329 \n",
    "| Tidal                     | Electricity grid    |  9.452 \n",
    "| UK land based bioenergy   | Bio-conversion      | 182.01 \n",
    "| Wave                      | Electricity grid    | 19.013 \n",
    "| Wind                      | Electricity grid    | 289.37 "
   ]
  },
  {
   "cell_type": "code",
   "execution_count": 5,
   "id": "91059cf5-c7ce-49da-8026-660d096d774e",
   "metadata": {},
   "outputs": [],
   "source": [
    "source = ['Agricultural waste', 'Bio-conversion', 'Bio-conversion', 'Bio-conversion', 'Thermal generation', \n",
    "         'Tidal', 'UK land based bioenergy', 'Wave', 'Wind']\n",
    "\n",
    "target = ['Bio-conversion', 'Liquid', 'Losses', 'Solid', 'Gas', 'District heating', 'Electricity grid', \n",
    "          'Bio-conversion', 'Electricity grid', 'Electricity grid']\n",
    "weight = [124, 0.5, 26, 280, 81, 79, 9,182, 19, 289]\n",
    "\n"
   ]
  },
  {
   "cell_type": "code",
   "execution_count": 6,
   "id": "02f7fac2-719c-4211-87d2-edec32203a45",
   "metadata": {},
   "outputs": [
    {
     "name": "stderr",
     "output_type": "stream",
     "text": [
      "[d3blocks] >INFO> Cleaning edge_properties and config parameters..\n",
      "[d3blocks] >INFO> Import dataset [energy]\n",
      "[d3blocks] >INFO> Converting source-target into adjacency matrix..\n",
      "[d3blocks] >INFO> Making the matrix symmetric..\n",
      "[d3blocks] >INFO> Set directed=True to see the markers!\n",
      "[d3blocks] >INFO> Keep only edges with weight>0\n",
      "[d3blocks] >INFO> Converting source-target into adjacency matrix..\n",
      "[d3blocks] >INFO> Making the matrix symmetric..\n",
      "[d3blocks] >INFO> Converting adjacency matrix into source-target..\n",
      "[d3blocks] >INFO> Number of unique nodes: 48\n",
      "[d3blocks] >INFO> Slider range is set to [0, 840]\n",
      "[d3blocks] >INFO> Write to path: [/var/folders/tt/zbxpsbdn7fd6_zbyqkfm28d40000gn/T/tmpqd7ng0yz/d3graph.html]\n",
      "[d3blocks] >INFO> File already exists and will be overwritten: [/var/folders/tt/zbxpsbdn7fd6_zbyqkfm28d40000gn/T/tmpqd7ng0yz/d3graph.html]\n"
     ]
    }
   ],
   "source": [
    "# Load library\n",
    "from d3blocks import D3Blocks\n",
    "\n",
    "# Initialize\n",
    "d3 = D3Blocks()\n",
    "# Import example\n",
    "df = d3.import_example('energy')\n",
    "# Create network using default\n",
    "d3.d3graph(df, filepath='d3graph.html', color='cluster', showfig=True)"
   ]
  },
  {
   "cell_type": "code",
   "execution_count": null,
   "id": "010f9ba1-b009-4e8c-9f34-970d9a59915e",
   "metadata": {},
   "outputs": [],
   "source": []
  },
  {
   "cell_type": "code",
   "execution_count": null,
   "id": "f3748e85-5b29-4cd2-a708-b44da988f6f5",
   "metadata": {},
   "outputs": [],
   "source": []
  },
  {
   "cell_type": "code",
   "execution_count": null,
   "id": "1067d87a-310f-4664-8a58-89acbc3e0fe4",
   "metadata": {},
   "outputs": [],
   "source": []
  }
 ],
 "metadata": {
  "kernelspec": {
   "display_name": "Python 3 (ipykernel)",
   "language": "python",
   "name": "python3"
  },
  "language_info": {
   "codemirror_mode": {
    "name": "ipython",
    "version": 3
   },
   "file_extension": ".py",
   "mimetype": "text/x-python",
   "name": "python",
   "nbconvert_exporter": "python",
   "pygments_lexer": "ipython3",
   "version": "3.10.13"
  }
 },
 "nbformat": 4,
 "nbformat_minor": 5
}
