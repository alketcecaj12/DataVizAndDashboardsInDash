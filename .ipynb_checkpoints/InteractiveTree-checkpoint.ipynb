{
 "cells": [
  {
   "cell_type": "code",
   "execution_count": 1,
   "id": "f8d1b835-6fe2-4ca2-8368-baf5797eb9a8",
   "metadata": {},
   "outputs": [
    {
     "name": "stderr",
     "output_type": "stream",
     "text": [
      "/Users/alket/miniconda3/envs/myenv/lib/python3.10/site-packages/pandas/core/arrays/masked.py:60: UserWarning: Pandas requires version '1.3.6' or newer of 'bottleneck' (version '1.3.5' currently installed).\n",
      "  from pandas.core import (\n",
      "[d3blocks] >INFO> Cleaning edge_properties and config parameters..\n",
      "[d3blocks] >INFO> Import dataset [energy]\n",
      "[d3blocks] >INFO> Cleaning edge_properties and config parameters..\n",
      "[d3blocks] >INFO> Initializing [Tree]\n",
      "[d3blocks] >INFO> filepath is set to [/var/folders/tt/zbxpsbdn7fd6_zbyqkfm28d40000gn/T/d3blocks/tree.html]\n",
      "[d3blocks] >INFO> Convert to DataFrame.\n",
      "[d3blocks] >INFO> Node properties are set.\n",
      "[d3blocks] >INFO> Edge properties are set.\n",
      "[d3blocks] >INFO> File not found: [file:////var/folders/tt/zbxpsbdn7fd6_zbyqkfm28d40000gn/T/d3blocks/tree.html]\n",
      "[d3blocks] >INFO> Open browser: file:////var/folders/tt/zbxpsbdn7fd6_zbyqkfm28d40000gn/T/d3blocks/tree.html\n"
     ]
    }
   ],
   "source": [
    "# Load library\n",
    "from d3blocks import D3Blocks\n",
    "\n",
    "# Initialize\n",
    "d3 = D3Blocks()\n",
    "\n",
    "# Import example\n",
    "df = d3.import_example('energy')\n",
    "\n",
    "# Create Chart\n",
    "d3.tree(df, filepath='tree.html')"
   ]
  },
  {
   "cell_type": "code",
   "execution_count": null,
   "id": "a444cb01-6a1c-49d5-9b43-f3cdfd9f3c76",
   "metadata": {},
   "outputs": [],
   "source": []
  },
  {
   "cell_type": "code",
   "execution_count": null,
   "id": "5fa1db0c-6654-454e-9941-35ee349eb9dd",
   "metadata": {},
   "outputs": [],
   "source": []
  },
  {
   "cell_type": "code",
   "execution_count": null,
   "id": "08ab5e19-1a6e-4126-a2a9-b234e81acde8",
   "metadata": {},
   "outputs": [],
   "source": []
  }
 ],
 "metadata": {
  "kernelspec": {
   "display_name": "Python 3 (ipykernel)",
   "language": "python",
   "name": "python3"
  },
  "language_info": {
   "codemirror_mode": {
    "name": "ipython",
    "version": 3
   },
   "file_extension": ".py",
   "mimetype": "text/x-python",
   "name": "python",
   "nbconvert_exporter": "python",
   "pygments_lexer": "ipython3",
   "version": "3.10.13"
  }
 },
 "nbformat": 4,
 "nbformat_minor": 5
}
