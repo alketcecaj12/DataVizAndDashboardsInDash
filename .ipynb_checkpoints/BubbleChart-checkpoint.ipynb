{
 "cells": [
  {
   "cell_type": "markdown",
   "id": "5316f61a-897e-41ed-8ca1-e87056c543d6",
   "metadata": {},
   "source": [
    "### Bubble chart"
   ]
  },
  {
   "cell_type": "code",
   "execution_count": 1,
   "id": "ac513b78-5893-4082-8211-eb09ee782e75",
   "metadata": {},
   "outputs": [
    {
     "name": "stderr",
     "output_type": "stream",
     "text": [
      "/Users/alket/miniconda3/envs/myenv/lib/python3.10/site-packages/pandas/core/arrays/masked.py:60: UserWarning: Pandas requires version '1.3.6' or newer of 'bottleneck' (version '1.3.5' currently installed).\n",
      "  from pandas.core import (\n",
      "[d3blocks] >INFO> Cleaning edge_properties and config parameters..\n",
      "[d3blocks] >INFO> Import dataset [energy]\n",
      "[d3blocks] >INFO> Cleaning edge_properties and config parameters..\n",
      "[d3blocks] >INFO> Initializing [Circlepacking]\n",
      "[d3blocks] >INFO> filepath is set to [/var/folders/tt/zbxpsbdn7fd6_zbyqkfm28d40000gn/T/d3blocks/circlepacking.html]\n",
      "[d3blocks] >INFO> Convert to DataFrame.\n",
      "[d3blocks] >INFO> Node properties are set.\n",
      "[d3blocks] >INFO> Edge properties are set.\n",
      "[d3blocks] >INFO> File not found: [file:////var/folders/tt/zbxpsbdn7fd6_zbyqkfm28d40000gn/T/d3blocks/circlepacking.html]\n",
      "[d3blocks] >INFO> Open browser: file:////var/folders/tt/zbxpsbdn7fd6_zbyqkfm28d40000gn/T/d3blocks/circlepacking.html\n"
     ]
    }
   ],
   "source": [
    "# Load library\n",
    "from d3blocks import D3Blocks\n",
    "\n",
    "# Initialize\n",
    "d3 = D3Blocks()\n",
    "\n",
    "# Import example\n",
    "df = d3.import_example('energy')\n",
    "\n",
    "# Create Chart\n",
    "d3.circlepacking(df, filepath='circlepacking.html')"
   ]
  },
  {
   "cell_type": "code",
   "execution_count": null,
   "id": "d3520b66-72f1-46a7-9a2b-b2dbe8cde038",
   "metadata": {},
   "outputs": [],
   "source": []
  },
  {
   "cell_type": "code",
   "execution_count": null,
   "id": "744e378f-7413-4c3f-aa95-7f50da5036ad",
   "metadata": {},
   "outputs": [],
   "source": []
  }
 ],
 "metadata": {
  "kernelspec": {
   "display_name": "Python 3 (ipykernel)",
   "language": "python",
   "name": "python3"
  },
  "language_info": {
   "codemirror_mode": {
    "name": "ipython",
    "version": 3
   },
   "file_extension": ".py",
   "mimetype": "text/x-python",
   "name": "python",
   "nbconvert_exporter": "python",
   "pygments_lexer": "ipython3",
   "version": "3.10.13"
  }
 },
 "nbformat": 4,
 "nbformat_minor": 5
}
