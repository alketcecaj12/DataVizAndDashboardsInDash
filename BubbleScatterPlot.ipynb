{
 "cells": [
  {
   "cell_type": "code",
   "execution_count": 1,
   "id": "9da56a8c-2f8f-49f4-8f56-c5f03a7bc027",
   "metadata": {},
   "outputs": [
    {
     "name": "stderr",
     "output_type": "stream",
     "text": [
      "/Users/alket/miniconda3/envs/myenv/lib/python3.10/site-packages/pandas/core/arrays/masked.py:60: UserWarning: Pandas requires version '1.3.6' or newer of 'bottleneck' (version '1.3.5' currently installed).\n",
      "  from pandas.core import (\n",
      "[d3blocks] >INFO> Cleaning edge_properties and config parameters..\n",
      "[d3blocks] >INFO> Import dataset [cancer]\n",
      "[d3blocks] >INFO> Downloading [cancer_dataset.zip] dataset from github source..\n",
      "[d3blocks] >INFO> Cleaning edge_properties and config parameters..\n",
      "[d3blocks] >INFO> Initializing [Scatter]\n",
      "[d3blocks] >INFO> filepath is set to [/var/folders/tt/zbxpsbdn7fd6_zbyqkfm28d40000gn/T/d3blocks/scatter_demo.html]\n",
      "[d3blocks] >INFO> [12] sizes are <0 and set to 0.\n",
      "[d3blocks] >INFO> Set opacity based on the data density.\n",
      "[d3blocks] >INFO> Edge properties are set.\n",
      "[d3blocks] >INFO> File not found: [file:////var/folders/tt/zbxpsbdn7fd6_zbyqkfm28d40000gn/T/d3blocks/scatter_demo.html]\n",
      "[d3blocks] >INFO> Open browser: file:////var/folders/tt/zbxpsbdn7fd6_zbyqkfm28d40000gn/T/d3blocks/scatter_demo.html\n"
     ]
    }
   ],
   "source": [
    "# Load library\n",
    "from d3blocks import D3Blocks\n",
    "# Initialize\n",
    "d3 = D3Blocks()\n",
    "\n",
    "# Load example data\n",
    "df = d3.import_example('cancer')\n",
    "\n",
    "\"\"\"\n",
    "+-----------+-----------+------+--------+------------+------------+\n",
    "|  tsneX    |  tsneY    | Age  | Labx   |    PC1     |    PC2     |\n",
    "+-----------+-----------+------+--------+------------+------------+\n",
    "|  37.20430 |  24.16281 | 58.0 |  acc   |  49.23346  |  14.49651  |\n",
    "|  37.09309 |  23.42356 | 44.0 |  acc   |  46.32799  |  14.46447  |\n",
    "|  36.80630 |  23.44491 | 23.0 |  acc   |  46.56793  |  13.48013  |\n",
    "|  38.06789 |  24.41177 | 30.0 |  acc   |  63.62468  |   1.87406  |\n",
    "|  36.79120 |  21.71532 | 29.0 |  acc   |  41.74671  |  37.53362  |\n",
    "|   ...     |    ...    | ...  |  ...   |    ...     |    ...     |\n",
    "|   0.83938 |  -8.87078 | NaN  |  brca  | -15.38129  |  -8.25454  |\n",
    "|  -5.84290 |   2.87760 | NaN  |  brca  | -19.16332  |  -6.42407  |\n",
    "|  -9.39204 |   1.66335 | 71.0 |  brca  | -21.79413  |  -6.19291  |\n",
    "|  -4.01639 |   6.26074 | NaN  |  brca  | -24.53614  |  -1.17167  |\n",
    "|   0.22980 |  -8.22709 | NaN  |  brca  | -28.16274  |  -5.29207  |\n",
    "+-----------+-----------+------+--------+------------+------------+\n",
    "\"\"\"\n",
    "\n",
    "# Set size and tooltip\n",
    "size = df['survival_months'].fillna(1).values / 20\n",
    "tooltip = df['labx'].values + ' <br /> Survival: ' + df['survival_months'].astype(str).str[0:4].values\n",
    "\n",
    "# Scatter plot\n",
    "d3.scatter(df['tsneX'].values,\n",
    "                       df['tsneY'].values,\n",
    "                       size=size,\n",
    "                       color=df['labx'].values,\n",
    "                       stroke='#000000',\n",
    "                       opacity=0.4,\n",
    "                       tooltip=tooltip,\n",
    "                       filepath='scatter_demo.html',\n",
    "                       cmap='tab20')"
   ]
  },
  {
   "cell_type": "code",
   "execution_count": null,
   "id": "3a06c3b6-f2af-4c5a-92f3-9105ceefcaa6",
   "metadata": {},
   "outputs": [],
   "source": []
  },
  {
   "cell_type": "code",
   "execution_count": null,
   "id": "870b52b7-8c56-409b-9b46-779360c38179",
   "metadata": {},
   "outputs": [],
   "source": []
  },
  {
   "cell_type": "code",
   "execution_count": null,
   "id": "652f0397-7818-422b-a956-bcaa01b40f80",
   "metadata": {},
   "outputs": [],
   "source": []
  }
 ],
 "metadata": {
  "kernelspec": {
   "display_name": "Python 3 (ipykernel)",
   "language": "python",
   "name": "python3"
  },
  "language_info": {
   "codemirror_mode": {
    "name": "ipython",
    "version": 3
   },
   "file_extension": ".py",
   "mimetype": "text/x-python",
   "name": "python",
   "nbconvert_exporter": "python",
   "pygments_lexer": "ipython3",
   "version": "3.10.13"
  }
 },
 "nbformat": 4,
 "nbformat_minor": 5
}
