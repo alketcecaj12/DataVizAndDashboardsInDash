{
 "cells": [
  {
   "cell_type": "code",
   "execution_count": 1,
   "id": "f8d1b835-6fe2-4ca2-8368-baf5797eb9a8",
   "metadata": {},
   "outputs": [
    {
     "name": "stderr",
     "output_type": "stream",
     "text": [
      "/Users/alket/miniconda3/envs/myenv/lib/python3.10/site-packages/pandas/core/arrays/masked.py:60: UserWarning: Pandas requires version '1.3.6' or newer of 'bottleneck' (version '1.3.5' currently installed).\n",
      "  from pandas.core import (\n",
      "[d3blocks] >INFO> Cleaning edge_properties and config parameters..\n",
      "[d3blocks] >INFO> Import dataset [energy]\n",
      "[d3blocks] >INFO> Cleaning edge_properties and config parameters..\n",
      "[d3blocks] >INFO> Initializing [Tree]\n",
      "[d3blocks] >INFO> filepath is set to [/var/folders/tt/zbxpsbdn7fd6_zbyqkfm28d40000gn/T/d3blocks/tree.html]\n",
      "[d3blocks] >INFO> Convert to DataFrame.\n",
      "[d3blocks] >INFO> Node properties are set.\n",
      "[d3blocks] >INFO> Edge properties are set.\n",
      "[d3blocks] >INFO> File not found: [file:////var/folders/tt/zbxpsbdn7fd6_zbyqkfm28d40000gn/T/d3blocks/tree.html]\n",
      "[d3blocks] >INFO> Open browser: file:////var/folders/tt/zbxpsbdn7fd6_zbyqkfm28d40000gn/T/d3blocks/tree.html\n"
     ]
    }
   ],
   "source": [
    "# Load library\n",
    "from d3blocks import D3Blocks\n",
    "\n",
    "# Initialize\n",
    "d3 = D3Blocks()\n",
    "\n",
    "# Import example\n",
    "df = d3.import_example('energy')\n",
    "\n",
    "# Create Chart\n",
    "d3.tree(df, filepath='tree.html')"
   ]
  },
  {
   "cell_type": "markdown",
   "id": "41be437c-a68f-4acd-bfb0-9c233544ae8a",
   "metadata": {},
   "source": [
    "## TreeChart\n",
    "A Tree chart presents the hierarchical structure in a classical branching layout. It is ideal for representing taxonomies, family trees, and organizational structures."
   ]
  },
  {
   "cell_type": "markdown",
   "id": "1bf1ef16-43a2-4b00-90c2-ed8a09a82ea5",
   "metadata": {},
   "source": [
    "## When to use \n",
    "\n",
    "- it is very useful when you want to visualize categorical data. \n",
    "\n",
    "- interactive so that you can chose what to pick and visualize in depth. "
   ]
  },
  {
   "cell_type": "code",
   "execution_count": null,
   "id": "08ab5e19-1a6e-4126-a2a9-b234e81acde8",
   "metadata": {},
   "outputs": [],
   "source": []
  },
  {
   "cell_type": "code",
   "execution_count": null,
   "id": "4446ea24-4979-42fc-b5db-b18a0756112e",
   "metadata": {},
   "outputs": [],
   "source": []
  },
  {
   "cell_type": "code",
   "execution_count": null,
   "id": "d2ce994a-059f-428d-b948-bfe672cc85cd",
   "metadata": {},
   "outputs": [],
   "source": []
  },
  {
   "cell_type": "code",
   "execution_count": null,
   "id": "4175b284-2f30-4110-8c04-2f90b0f0016c",
   "metadata": {},
   "outputs": [],
   "source": []
  },
  {
   "cell_type": "code",
   "execution_count": null,
   "id": "0827e25f-9552-4ee5-b177-d921155c4b30",
   "metadata": {},
   "outputs": [],
   "source": []
  },
  {
   "cell_type": "code",
   "execution_count": null,
   "id": "cdc406dd-1822-4306-bcd6-afc02a5d0465",
   "metadata": {},
   "outputs": [],
   "source": []
  },
  {
   "cell_type": "code",
   "execution_count": null,
   "id": "a3bd6c3e-7c79-4cb9-92ef-8846a65259b9",
   "metadata": {},
   "outputs": [],
   "source": []
  }
 ],
 "metadata": {
  "kernelspec": {
   "display_name": "Python 3 (ipykernel)",
   "language": "python",
   "name": "python3"
  },
  "language_info": {
   "codemirror_mode": {
    "name": "ipython",
    "version": 3
   },
   "file_extension": ".py",
   "mimetype": "text/x-python",
   "name": "python",
   "nbconvert_exporter": "python",
   "pygments_lexer": "ipython3",
   "version": "3.10.13"
  }
 },
 "nbformat": 4,
 "nbformat_minor": 5
}
